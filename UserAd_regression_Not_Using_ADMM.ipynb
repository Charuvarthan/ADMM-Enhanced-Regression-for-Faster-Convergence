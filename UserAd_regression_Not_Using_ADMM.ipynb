{
 "cells": [
  {
   "cell_type": "markdown",
   "metadata": {},
   "source": [
    "Importing the libraries"
   ]
  },
  {
   "cell_type": "code",
   "execution_count": 5,
   "metadata": {},
   "outputs": [],
   "source": [
    "import numpy as np\n",
    "import pandas as pd\n",
    "from sklearn.model_selection import train_test_split\n",
    "from sklearn.preprocessing import StandardScaler\n",
    "import matplotlib.pyplot as plt"
   ]
  },
  {
   "cell_type": "markdown",
   "metadata": {},
   "source": [
    "Define activation function"
   ]
  },
  {
   "cell_type": "code",
   "execution_count": 6,
   "metadata": {},
   "outputs": [],
   "source": [
    "def sigmoid(z):\n",
    "    return 1 / (1 + np.exp(-z))"
   ]
  },
  {
   "cell_type": "markdown",
   "metadata": {},
   "source": [
    "Loss function "
   ]
  },
  {
   "cell_type": "code",
   "execution_count": 7,
   "metadata": {},
   "outputs": [],
   "source": [
    "def logistic_loss(X, y, beta, lambda_):\n",
    "    m = len(y)\n",
    "    predictions = sigmoid(X @ beta)\n",
    "    loss = - (1 / m) * (y @ np.log(predictions + 1e-9) + (1 - y) @ np.log(1 - predictions + 1e-9)) + (lambda_ / 2) * np.sum(beta ** 2)\n",
    "    return loss\n"
   ]
  },
  {
   "cell_type": "markdown",
   "metadata": {},
   "source": [
    "Function computing the regression"
   ]
  },
  {
   "cell_type": "code",
   "execution_count": 15,
   "metadata": {},
   "outputs": [],
   "source": [
    "def gradient_descent_logistic_regression(X, y, lambda_=1.0, learning_rate=0.01, max_iter=1000, tol=1e-6):\n",
    "    m, n = X.shape\n",
    "    beta = np.zeros(n)\n",
    "    loss_history = []\n",
    "\n",
    "    accuracy_value = []\n",
    "\n",
    "    for iteration in range(max_iter):\n",
    "        predictions = sigmoid(X @ beta)\n",
    "        gradient = (X.T @ (predictions - y)) / m + lambda_ * beta\n",
    "        beta -= learning_rate * gradient\n",
    "\n",
    "        \n",
    "        # Compute accuracy\n",
    "        predictions = sigmoid(X @ beta) >= 0.5\n",
    "        accuracy = np.mean(predictions == y)\n",
    "        accuracy_value.append(accuracy)\n",
    "\n",
    "\n",
    "        loss = logistic_loss(X, y, beta, lambda_)\n",
    "        loss_history.append(loss)\n",
    "\n",
    "        if np.linalg.norm(gradient) < tol:\n",
    "            print(f'The model converged after {iteration + 1} epochs with loss: {loss:.4f}')\n",
    "            break\n",
    "    else:\n",
    "        print('The model did not converge within 1000 epochs.')\n",
    "\n",
    "    return beta, accuracy_value"
   ]
  },
  {
   "cell_type": "code",
   "execution_count": 16,
   "metadata": {},
   "outputs": [],
   "source": [
    "data = pd.read_csv('Social_Network_Ads.csv')\n",
    "df = pd.DataFrame(data)\n",
    "\n",
    "df['Gender'] = df['Gender'].map({'Male': 0, 'Female': 1})"
   ]
  },
  {
   "cell_type": "code",
   "execution_count": 17,
   "metadata": {},
   "outputs": [],
   "source": [
    "X = df[['Gender', 'Age', 'EstimatedSalary']]\n",
    "y = df['Purchased']\n",
    "\n",
    "\n",
    "X_train, X_test, y_train, y_test = train_test_split(X, y, test_size=0.2, random_state=42)\n"
   ]
  },
  {
   "cell_type": "code",
   "execution_count": 18,
   "metadata": {},
   "outputs": [],
   "source": [
    "scaler = StandardScaler()\n",
    "X_train = scaler.fit_transform(X_train)\n",
    "X_test = scaler.transform(X_test)\n"
   ]
  },
  {
   "cell_type": "code",
   "execution_count": 28,
   "metadata": {},
   "outputs": [
    {
     "name": "stdout",
     "output_type": "stream",
     "text": [
      "The model did not converge within 1000 epochs.\n",
      "Accuracy of gradient descent logistic regression: 88.7500 %\n"
     ]
    }
   ],
   "source": [
    "beta_gd, acc_val = gradient_descent_logistic_regression(X_train, y_train)\n",
    "\n",
    "\n",
    "y_pred_gd = sigmoid(X_test @ beta_gd) >= 0.5\n",
    "accuracy_gd = np.mean(y_pred_gd == y_test)\n",
    "\n",
    "print(f'Accuracy of gradient descent logistic regression: {100 * accuracy_gd:.4f} %')\n"
   ]
  }
 ],
 "metadata": {
  "kernelspec": {
   "display_name": "Test",
   "language": "python",
   "name": "python3"
  },
  "language_info": {
   "codemirror_mode": {
    "name": "ipython",
    "version": 3
   },
   "file_extension": ".py",
   "mimetype": "text/x-python",
   "name": "python",
   "nbconvert_exporter": "python",
   "pygments_lexer": "ipython3",
   "version": "3.12.7"
  }
 },
 "nbformat": 4,
 "nbformat_minor": 2
}
