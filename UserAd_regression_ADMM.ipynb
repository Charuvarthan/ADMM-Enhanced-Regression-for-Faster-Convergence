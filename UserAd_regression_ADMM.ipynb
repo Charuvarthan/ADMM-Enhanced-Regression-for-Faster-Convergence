{
 "cells": [
  {
   "cell_type": "markdown",
   "metadata": {},
   "source": [
    "Importing the libraries"
   ]
  },
  {
   "cell_type": "code",
   "execution_count": null,
   "metadata": {},
   "outputs": [],
   "source": [
    "!pip install scikit-learn"
   ]
  },
  {
   "cell_type": "code",
   "execution_count": 50,
   "metadata": {},
   "outputs": [],
   "source": [
    "import numpy as np\n",
    "import pandas as pd\n",
    "from sklearn.model_selection import train_test_split\n",
    "from sklearn.preprocessing import StandardScaler\n"
   ]
  },
  {
   "cell_type": "markdown",
   "metadata": {},
   "source": [
    "Load the dataset"
   ]
  },
  {
   "cell_type": "code",
   "execution_count": 51,
   "metadata": {},
   "outputs": [],
   "source": [
    "df = pd.read_csv(\"Social_Network_Ads.csv\")"
   ]
  },
  {
   "cell_type": "markdown",
   "metadata": {},
   "source": [
    "Data pre-processing"
   ]
  },
  {
   "cell_type": "code",
   "execution_count": 52,
   "metadata": {},
   "outputs": [],
   "source": [
    "# Manual one-hot encoding\n",
    "df['Gender'] = df['Gender'].map({'Male': 0, 'Female': 1})\n",
    "\n",
    "# features used for predicting and the actual target variable\n",
    "X = df[['Gender', 'Age', 'EstimatedSalary']]\n",
    "y = df['Purchased']"
   ]
  },
  {
   "cell_type": "markdown",
   "metadata": {},
   "source": [
    "Training and testing data splitting"
   ]
  },
  {
   "cell_type": "code",
   "execution_count": 53,
   "metadata": {},
   "outputs": [],
   "source": [
    "X_train, X_test, y_train, y_test = train_test_split(X, y, test_size=0.2, random_state=42)"
   ]
  },
  {
   "cell_type": "markdown",
   "metadata": {},
   "source": [
    "Standardise the dataset - for better convergence in admm"
   ]
  },
  {
   "cell_type": "code",
   "execution_count": 54,
   "metadata": {},
   "outputs": [],
   "source": [
    "scaler = StandardScaler()\n",
    "X_train = scaler.fit_transform(X_train)\n",
    "X_test = scaler.transform(X_test)"
   ]
  },
  {
   "cell_type": "markdown",
   "metadata": {},
   "source": [
    "Activation for regression - manual"
   ]
  },
  {
   "cell_type": "code",
   "execution_count": 55,
   "metadata": {},
   "outputs": [],
   "source": [
    "def sigmoid(z):\n",
    "    return 1 / (1 + np.exp(-z))"
   ]
  },
  {
   "cell_type": "markdown",
   "metadata": {},
   "source": [
    "A loss function is defined"
   ]
  },
  {
   "cell_type": "markdown",
   "metadata": {},
   "source": [
    "This is the function to be used in the ADMM"
   ]
  },
  {
   "cell_type": "code",
   "execution_count": 56,
   "metadata": {},
   "outputs": [],
   "source": [
    "def logistic_loss(X, y, beta, lambda_):\n",
    "    m = len(y)\n",
    "    predictions = sigmoid(X @ beta)\n",
    "    # the following is just a loss function formula\n",
    "    loss = - (1 / m) * (y @ np.log(predictions + 1e-9) + (1 - y) @ np.log(1 - predictions + 1e-9)) + (lambda_ / 2) * np.sum(beta ** 2)\n",
    "    # 1e-9 is added to the prediction to avoid log(0) numerical errors\n",
    "    return loss"
   ]
  },
  {
   "cell_type": "markdown",
   "metadata": {},
   "source": [
    "ADMM Algorithm"
   ]
  },
  {
   "cell_type": "code",
   "execution_count": 67,
   "metadata": {},
   "outputs": [],
   "source": [
    "def admm_logistic_regression(X, y, lambda_=1.0, rho=1.0, max_iter=1000, tol=1e-6):\n",
    "\n",
    "    # lamda_ --> L2 regularization to add penalty to avoid overfitting\n",
    "    # rho --> parameter for dual updates\n",
    "    # tol --> convergence tolerance (the algorithm acutally stops if updates are smaller than this value)\n",
    "\n",
    "    m, n = X.shape\n",
    "\n",
    "    # model's weights initialized to 0's\n",
    "    beta = np.random.randn(n) * 0.01\n",
    "    z = np.zeros(n)\n",
    "    u = np.zeros(n)\n",
    "\n",
    "    # Store acc values for plotting\n",
    "    accuracy_values = []\n",
    "\n",
    "    for iteration in range(max_iter):\n",
    "        \n",
    "        A = X.T @ (sigmoid(X @ beta) - y) + lambda_ * beta + rho * (beta - z + u)\n",
    "        beta -= np.linalg.pinv(X.T @ X + lambda_ * np.eye(n) + rho * np.eye(n)) @ A\n",
    "\n",
    "        \n",
    "        z_old = z.copy()\n",
    "        z = beta + u\n",
    "        u += beta - z\n",
    "\n",
    "        # Compute the loss\n",
    "        loss = -np.mean(y * np.log(sigmoid(X @ beta)) + (1 - y) * np.log(1 - sigmoid(X @ beta))) + (lambda_ / 2) * np.sum(beta ** 2)\n",
    "\n",
    "        # Compute accuracy\n",
    "        predictions = sigmoid(X @ beta) >= 0.5\n",
    "        accuracy = np.mean(predictions == y)\n",
    "        accuracy_values.append(accuracy)\n",
    "\n",
    "        # convergence checking\n",
    "        primal_residual = np.linalg.norm(beta - z)\n",
    "        dual_residual = np.linalg.norm(-rho * (z - z_old))\n",
    "        if primal_residual < tol and dual_residual < tol:\n",
    "            print(f'The model converged after {iteration + 1} epochs.')\n",
    "            break\n",
    "    else:\n",
    "        print('The model did not converge within 1000 epochs')\n",
    "\n",
    "    \n",
    "    \n",
    "    return beta, accuracy_values"
   ]
  },
  {
   "cell_type": "markdown",
   "metadata": {},
   "source": [
    "Model fitting"
   ]
  },
  {
   "cell_type": "code",
   "execution_count": 68,
   "metadata": {},
   "outputs": [
    {
     "name": "stdout",
     "output_type": "stream",
     "text": [
      "The model converged after 196 epochs.\n",
      "Optimized set of weights: [-0.07362575  1.71114091  1.04046282]\n"
     ]
    }
   ],
   "source": [
    "beta_admm, acc_val = admm_logistic_regression(X_train, y_train)\n",
    "print('Optimized set of weights:', beta_admm)"
   ]
  },
  {
   "cell_type": "markdown",
   "metadata": {},
   "source": [
    "Model evaluation"
   ]
  },
  {
   "cell_type": "code",
   "execution_count": 61,
   "metadata": {},
   "outputs": [
    {
     "name": "stdout",
     "output_type": "stream",
     "text": [
      "ADMM Logistic Regression Accuracy: 91.25%\n"
     ]
    }
   ],
   "source": [
    "predictions_admm= (sigmoid(X_test @ beta_admm) >= 0.5).astype(int)\n",
    "accuracy_admm = np.mean(predictions_admm == y_test)\n",
    "print(f'ADMM Logistic Regression Accuracy: {accuracy_admm * 100:.2f}%')"
   ]
  }
 ],
 "metadata": {
  "kernelspec": {
   "display_name": "Test",
   "language": "python",
   "name": "python3"
  },
  "language_info": {
   "codemirror_mode": {
    "name": "ipython",
    "version": 3
   },
   "file_extension": ".py",
   "mimetype": "text/x-python",
   "name": "python",
   "nbconvert_exporter": "python",
   "pygments_lexer": "ipython3",
   "version": "3.12.7"
  }
 },
 "nbformat": 4,
 "nbformat_minor": 2
}
